{
 "cells": [
  {
   "cell_type": "code",
   "execution_count": 20,
   "metadata": {
    "collapsed": false
   },
   "outputs": [],
   "source": [
    "import numpy as np\n",
    "from pyCoCo import pyCoCo\n",
    "import sqlite3"
   ]
  },
  {
   "cell_type": "code",
   "execution_count": 2,
   "metadata": {
    "collapsed": true
   },
   "outputs": [],
   "source": [
    "fltPath = b\"/Users/szymon/Projects/CoCo/data/filters\"\n",
    "rootPath = b\"/Users/szymon/Projects/CoCo\""
   ]
  },
  {
   "cell_type": "code",
   "execution_count": 9,
   "metadata": {
    "collapsed": false
   },
   "outputs": [
    {
     "name": "stdout",
     "output_type": "stream",
     "text": [
      "1 loop, best of 3: 2.15 s per loop\n"
     ]
    }
   ],
   "source": [
    "%%timeit \n",
    "\n",
    "coco = pyCoCo(fltPath, rootPath)"
   ]
  },
  {
   "cell_type": "code",
   "execution_count": 3,
   "metadata": {
    "collapsed": false
   },
   "outputs": [],
   "source": [
    "coco = pyCoCo(fltPath, rootPath)"
   ]
  },
  {
   "cell_type": "code",
   "execution_count": 13,
   "metadata": {
    "collapsed": true
   },
   "outputs": [],
   "source": [
    "mjd = np.arange(55000, 55100, 2.5, dtype=float)\n",
    "flt = [b\"SDSS_g\", b\"SDSS_g\", b\"SDSS_g\", b\"SDSS_g\", b\"SDSS_g\",\n",
    "       b\"SDSS_g\", b\"SDSS_g\", b\"SDSS_g\", b\"SDSS_g\", b\"SDSS_g\",\n",
    "       b\"SDSS_z\", b\"SDSS_z\", b\"SDSS_z\", b\"SDSS_z\", b\"SDSS_z\",\n",
    "       b\"SDSS_z\", b\"SDSS_z\", b\"SDSS_z\", b\"SDSS_z\", b\"SDSS_z\",\n",
    "       b\"SDSS_r\", b\"SDSS_r\", b\"SDSS_r\", b\"SDSS_r\", b\"SDSS_r\",\n",
    "       b\"SDSS_r\", b\"SDSS_r\", b\"SDSS_r\", b\"SDSS_r\", b\"SDSS_r\",\n",
    "       b\"SDSS_i\", b\"SDSS_i\", b\"SDSS_i\", b\"SDSS_i\", b\"SDSS_i\",\n",
    "       b\"SDSS_i\", b\"SDSS_i\", b\"SDSS_i\", b\"SDSS_i\", b\"SDSS_i\"]\n",
    "flt = np.array(flt)"
   ]
  },
  {
   "cell_type": "code",
   "execution_count": 15,
   "metadata": {
    "collapsed": false
   },
   "outputs": [
    {
     "name": "stdout",
     "output_type": "stream",
     "text": [
      "10 loops, best of 3: 75.9 ms per loop\n"
     ]
    }
   ],
   "source": [
    "%%timeit\n",
    "\n",
    "coco.simulate(b\"SN2011dh\", 0.01, -1.0, 0.2, 0.1, 3.1, 55000.0, mjd, flt)"
   ]
  },
  {
   "cell_type": "code",
   "execution_count": 35,
   "metadata": {
    "collapsed": false
   },
   "outputs": [
    {
     "data": {
      "text/plain": [
       "array([[  1.33290560e-15,   1.32729091e-15,   1.31267674e-15,\n",
       "          1.29030705e-15,   1.26136866e-15,   1.22697461e-15,\n",
       "          1.18815376e-15,   1.14584505e-15,   1.10089552e-15,\n",
       "          1.05406103e-15,   3.04393698e-15,   2.89662344e-15,\n",
       "          2.74891504e-15,   2.60211451e-15,   2.45732067e-15,\n",
       "          2.31544703e-15,   2.17724014e-15,   2.04329729e-15,\n",
       "          1.91408355e-15,   1.78994762e-15,   1.36044258e-15,\n",
       "          1.26818549e-15,   1.18046154e-15,   1.09728700e-15,\n",
       "          1.01863431e-15,   9.44439513e-16,   8.74608824e-16,\n",
       "          8.09024480e-16,   7.47549834e-16,   6.90033812e-16,\n",
       "          1.40598913e-15,   1.29530908e-15,   1.19226258e-15,\n",
       "          1.09646219e-15,   1.00752041e-15,   9.25053376e-16,\n",
       "          8.48683869e-16,   7.78043753e-16,   7.12775889e-16,\n",
       "          6.52535615e-16],\n",
       "       [  0.00000000e+00,   0.00000000e+00,   0.00000000e+00,\n",
       "          0.00000000e+00,   0.00000000e+00,   0.00000000e+00,\n",
       "          0.00000000e+00,   0.00000000e+00,   0.00000000e+00,\n",
       "          0.00000000e+00,   0.00000000e+00,   0.00000000e+00,\n",
       "          0.00000000e+00,   0.00000000e+00,   0.00000000e+00,\n",
       "          0.00000000e+00,   0.00000000e+00,   0.00000000e+00,\n",
       "          0.00000000e+00,   0.00000000e+00,   0.00000000e+00,\n",
       "          0.00000000e+00,   0.00000000e+00,   0.00000000e+00,\n",
       "          0.00000000e+00,   0.00000000e+00,   0.00000000e+00,\n",
       "          0.00000000e+00,   0.00000000e+00,   0.00000000e+00,\n",
       "          0.00000000e+00,   0.00000000e+00,   0.00000000e+00,\n",
       "          0.00000000e+00,   0.00000000e+00,   0.00000000e+00,\n",
       "          0.00000000e+00,   0.00000000e+00,   0.00000000e+00,\n",
       "          0.00000000e+00]])"
      ]
     },
     "execution_count": 35,
     "metadata": {},
     "output_type": "execute_result"
    }
   ],
   "source": [
    "out = coco.simulate(b\"SN2011dh\", 0.1, -1.0, 0.2, 0.1, 3.1, 55000.0, mjd, flt)\n",
    "out"
   ]
  },
  {
   "cell_type": "code",
   "execution_count": 21,
   "metadata": {
    "collapsed": false
   },
   "outputs": [],
   "source": [
    "db = sqlite3.connect(':memory:')"
   ]
  },
  {
   "cell_type": "code",
   "execution_count": 93,
   "metadata": {
    "collapsed": true
   },
   "outputs": [],
   "source": [
    "conn = db.cursor()\n",
    "conn.execute(\n",
    "\"\"\"\n",
    "CREATE TABLE fakes(mjd REAL, flux REAL, fluxerr REAL, filter TEXT)\n",
    "\"\"\")\n",
    "\n",
    "db.commit()"
   ]
  },
  {
   "cell_type": "code",
   "execution_count": 94,
   "metadata": {
    "collapsed": false
   },
   "outputs": [
    {
     "name": "stdout",
     "output_type": "stream",
     "text": [
      "100 loops, best of 3: 1.82 ms per loop\n"
     ]
    }
   ],
   "source": [
    "%%timeit\n",
    "\n",
    "data = np.zeros(out.shape[1] , dtype=[('mjd', np.float64), ('flux', np.float64), ('fluxerr', np.float64), ('filter', ('U', 10))])\n",
    "data['mjd'] = mjd\n",
    "data['flux'] = out[0]\n",
    "data['fluxerr'] = out[1]\n",
    "data['filter'] = flt\n",
    "\n",
    "conn.executemany(\"\"\"INSERT INTO fakes VALUES (?, ?, ?, ?)\"\"\", map(tuple, data.tolist()))\n",
    "db.commit()"
   ]
  },
  {
   "cell_type": "code",
   "execution_count": 95,
   "metadata": {
    "collapsed": false
   },
   "outputs": [],
   "source": [
    "conn.execute(\n",
    "\"\"\"\n",
    "DROP TABLE fakes\n",
    "\"\"\")\n",
    "\n",
    "db.commit()"
   ]
  },
  {
   "cell_type": "code",
   "execution_count": 96,
   "metadata": {
    "collapsed": false
   },
   "outputs": [
    {
     "data": {
      "text/plain": [
       "array([(55000.0, 1.3329056029916264e-15, 0.0, 'SDSS_g'),\n",
       "       (55002.5, 1.3272909082178018e-15, 0.0, 'SDSS_g'),\n",
       "       (55005.0, 1.3126767381578978e-15, 0.0, 'SDSS_g'),\n",
       "       (55007.5, 1.2903070518098779e-15, 0.0, 'SDSS_g'),\n",
       "       (55010.0, 1.2613686579083377e-15, 0.0, 'SDSS_g'),\n",
       "       (55012.5, 1.2269746113650761e-15, 0.0, 'SDSS_g'),\n",
       "       (55015.0, 1.188153756943107e-15, 0.0, 'SDSS_g'),\n",
       "       (55017.5, 1.145845048042994e-15, 0.0, 'SDSS_g'),\n",
       "       (55020.0, 1.1008955222326714e-15, 0.0, 'SDSS_g'),\n",
       "       (55022.5, 1.0540610256222054e-15, 0.0, 'SDSS_g'),\n",
       "       (55025.0, 3.0439369817798624e-15, 0.0, 'SDSS_z'),\n",
       "       (55027.5, 2.8966234393096417e-15, 0.0, 'SDSS_z'),\n",
       "       (55030.0, 2.7489150416071264e-15, 0.0, 'SDSS_z'),\n",
       "       (55032.5, 2.602114505410037e-15, 0.0, 'SDSS_z'),\n",
       "       (55035.0, 2.457320665835438e-15, 0.0, 'SDSS_z'),\n",
       "       (55037.5, 2.315447032766153e-15, 0.0, 'SDSS_z'),\n",
       "       (55040.0, 2.1772401352559596e-15, 0.0, 'SDSS_z'),\n",
       "       (55042.5, 2.0432972916934923e-15, 0.0, 'SDSS_z'),\n",
       "       (55045.0, 1.9140835494985e-15, 0.0, 'SDSS_z'),\n",
       "       (55047.5, 1.789947622261035e-15, 0.0, 'SDSS_z'),\n",
       "       (55050.0, 1.3604425808074853e-15, 0.0, 'SDSS_r'),\n",
       "       (55052.5, 1.268185489644727e-15, 0.0, 'SDSS_r'),\n",
       "       (55055.0, 1.180461539546585e-15, 0.0, 'SDSS_r'),\n",
       "       (55057.5, 1.0972869998739557e-15, 0.0, 'SDSS_r'),\n",
       "       (55060.0, 1.0186343123650696e-15, 0.0, 'SDSS_r'),\n",
       "       (55062.5, 9.444395125088829e-16, 0.0, 'SDSS_r'),\n",
       "       (55065.0, 8.746088237930597e-16, 0.0, 'SDSS_r'),\n",
       "       (55067.5, 8.090244801036685e-16, 0.0, 'SDSS_r'),\n",
       "       (55070.0, 7.475498342866124e-16, 0.0, 'SDSS_r'),\n",
       "       (55072.5, 6.900338117032808e-16, 0.0, 'SDSS_r'),\n",
       "       (55075.0, 1.4059891318527603e-15, 0.0, 'SDSS_i'),\n",
       "       (55077.5, 1.2953090753503374e-15, 0.0, 'SDSS_i'),\n",
       "       (55080.0, 1.1922625802113101e-15, 0.0, 'SDSS_i'),\n",
       "       (55082.5, 1.0964621921248194e-15, 0.0, 'SDSS_i'),\n",
       "       (55085.0, 1.007520411977292e-15, 0.0, 'SDSS_i'),\n",
       "       (55087.5, 9.25053375960303e-16, 0.0, 'SDSS_i'),\n",
       "       (55090.0, 8.486838688533329e-16, 0.0, 'SDSS_i'),\n",
       "       (55092.5, 7.780437531826766e-16, 0.0, 'SDSS_i'),\n",
       "       (55095.0, 7.127758894548371e-16, 0.0, 'SDSS_i'),\n",
       "       (55097.5, 6.52535615460935e-16, 0.0, 'SDSS_i')], \n",
       "      dtype=[('mjd', '<f8'), ('flux', '<f8'), ('fluxerr', '<f8'), ('filter', '<U10')])"
      ]
     },
     "execution_count": 96,
     "metadata": {},
     "output_type": "execute_result"
    }
   ],
   "source": [
    "data"
   ]
  },
  {
   "cell_type": "code",
   "execution_count": null,
   "metadata": {
    "collapsed": true
   },
   "outputs": [],
   "source": []
  }
 ],
 "metadata": {
  "anaconda-cloud": {},
  "kernelspec": {
   "display_name": "Python [conda root]",
   "language": "python",
   "name": "conda-root-py"
  },
  "language_info": {
   "codemirror_mode": {
    "name": "ipython",
    "version": 3
   },
   "file_extension": ".py",
   "mimetype": "text/x-python",
   "name": "python",
   "nbconvert_exporter": "python",
   "pygments_lexer": "ipython3",
   "version": "3.5.2"
  }
 },
 "nbformat": 4,
 "nbformat_minor": 1
}
