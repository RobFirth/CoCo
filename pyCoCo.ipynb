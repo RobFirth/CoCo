{
 "cells": [
  {
   "cell_type": "code",
   "execution_count": 20,
   "metadata": {
    "collapsed": false
   },
   "outputs": [],
   "source": [
    "import numpy as np\n",
    "from pyCoCo import pyCoCo\n",
    "import sqlite3"
   ]
  },
  {
   "cell_type": "code",
   "execution_count": 2,
   "metadata": {
    "collapsed": true
   },
   "outputs": [],
   "source": [
    "fltPath = b\"/Users/szymon/Projects/CoCo/data/filters\"\n",
    "rootPath = b\"/Users/szymon/Projects/CoCo\""
   ]
  },
  {
   "cell_type": "code",
   "execution_count": 9,
   "metadata": {
    "collapsed": false
   },
   "outputs": [
    {
     "name": "stdout",
     "output_type": "stream",
     "text": [
      "1 loop, best of 3: 2.15 s per loop\n"
     ]
    }
   ],
   "source": [
    "%%timeit \n",
    "\n",
    "coco = pyCoCo(fltPath, rootPath)"
   ]
  },
  {
   "cell_type": "code",
   "execution_count": 3,
   "metadata": {
    "collapsed": false
   },
   "outputs": [],
   "source": [
    "coco = pyCoCo(fltPath, rootPath)"
   ]
  },
  {
   "cell_type": "code",
   "execution_count": 13,
   "metadata": {
    "collapsed": true
   },
   "outputs": [],
   "source": [
    "mjd = np.arange(55000, 55100, 2.5, dtype=float)\n",
    "flt = [b\"SDSS_g\", b\"SDSS_g\", b\"SDSS_g\", b\"SDSS_g\", b\"SDSS_g\",\n",
    "       b\"SDSS_g\", b\"SDSS_g\", b\"SDSS_g\", b\"SDSS_g\", b\"SDSS_g\",\n",
    "       b\"SDSS_z\", b\"SDSS_z\", b\"SDSS_z\", b\"SDSS_z\", b\"SDSS_z\",\n",
    "       b\"SDSS_z\", b\"SDSS_z\", b\"SDSS_z\", b\"SDSS_z\", b\"SDSS_z\",\n",
    "       b\"SDSS_r\", b\"SDSS_r\", b\"SDSS_r\", b\"SDSS_r\", b\"SDSS_r\",\n",
    "       b\"SDSS_r\", b\"SDSS_r\", b\"SDSS_r\", b\"SDSS_r\", b\"SDSS_r\",\n",
    "       b\"SDSS_i\", b\"SDSS_i\", b\"SDSS_i\", b\"SDSS_i\", b\"SDSS_i\",\n",
    "       b\"SDSS_i\", b\"SDSS_i\", b\"SDSS_i\", b\"SDSS_i\", b\"SDSS_i\"]\n",
    "flt = np.array(flt)"
   ]
  },
  {
   "cell_type": "code",
   "execution_count": 15,
   "metadata": {
    "collapsed": false
   },
   "outputs": [
    {
     "name": "stdout",
     "output_type": "stream",
     "text": [
      "10 loops, best of 3: 75.9 ms per loop\n"
     ]
    }
   ],
   "source": [
    "%%timeit\n",
    "\n",
    "coco.simulate(b\"SN2011dh\", 0.01, -1.0, 0.2, 0.1, 3.1, 55000.0, mjd, flt)"
   ]
  },
  {
   "cell_type": "code",
   "execution_count": 35,
   "metadata": {
    "collapsed": false
   },
   "outputs": [
    {
     "data": {
      "text/plain": [
       "array([[  1.33290560e-15,   1.32729091e-15,   1.31267674e-15,\n",
       "          1.29030705e-15,   1.26136866e-15,   1.22697461e-15,\n",
       "          1.18815376e-15,   1.14584505e-15,   1.10089552e-15,\n",
       "          1.05406103e-15,   3.04393698e-15,   2.89662344e-15,\n",
       "          2.74891504e-15,   2.60211451e-15,   2.45732067e-15,\n",
       "          2.31544703e-15,   2.17724014e-15,   2.04329729e-15,\n",
       "          1.91408355e-15,   1.78994762e-15,   1.36044258e-15,\n",
       "          1.26818549e-15,   1.18046154e-15,   1.09728700e-15,\n",
       "          1.01863431e-15,   9.44439513e-16,   8.74608824e-16,\n",
       "          8.09024480e-16,   7.47549834e-16,   6.90033812e-16,\n",
       "          1.40598913e-15,   1.29530908e-15,   1.19226258e-15,\n",
       "          1.09646219e-15,   1.00752041e-15,   9.25053376e-16,\n",
       "          8.48683869e-16,   7.78043753e-16,   7.12775889e-16,\n",
       "          6.52535615e-16],\n",
       "       [  0.00000000e+00,   0.00000000e+00,   0.00000000e+00,\n",
       "          0.00000000e+00,   0.00000000e+00,   0.00000000e+00,\n",
       "          0.00000000e+00,   0.00000000e+00,   0.00000000e+00,\n",
       "          0.00000000e+00,   0.00000000e+00,   0.00000000e+00,\n",
       "          0.00000000e+00,   0.00000000e+00,   0.00000000e+00,\n",
       "          0.00000000e+00,   0.00000000e+00,   0.00000000e+00,\n",
       "          0.00000000e+00,   0.00000000e+00,   0.00000000e+00,\n",
       "          0.00000000e+00,   0.00000000e+00,   0.00000000e+00,\n",
       "          0.00000000e+00,   0.00000000e+00,   0.00000000e+00,\n",
       "          0.00000000e+00,   0.00000000e+00,   0.00000000e+00,\n",
       "          0.00000000e+00,   0.00000000e+00,   0.00000000e+00,\n",
       "          0.00000000e+00,   0.00000000e+00,   0.00000000e+00,\n",
       "          0.00000000e+00,   0.00000000e+00,   0.00000000e+00,\n",
       "          0.00000000e+00]])"
      ]
     },
     "execution_count": 35,
     "metadata": {},
     "output_type": "execute_result"
    }
   ],
   "source": [
    "out = coco.simulate(b\"SN2011dh\", 0.1, -1.0, 0.2, 0.1, 3.1, 55000.0, mjd, flt)\n",
    "out"
   ]
  },
  {
   "cell_type": "code",
   "execution_count": 105,
   "metadata": {
    "collapsed": false
   },
   "outputs": [],
   "source": [
    "# db = sqlite3.connect(':memory:')\n",
    "db = sqlite3.connect('test.db')"
   ]
  },
  {
   "cell_type": "code",
   "execution_count": 106,
   "metadata": {
    "collapsed": true
   },
   "outputs": [],
   "source": [
    "conn = db.cursor()\n",
    "conn.execute(\n",
    "\"\"\"\n",
    "CREATE TABLE fakes(mjd REAL, flux REAL, fluxerr REAL, filter TEXT)\n",
    "\"\"\")\n",
    "\n",
    "db.commit()"
   ]
  },
  {
   "cell_type": "code",
   "execution_count": 107,
   "metadata": {
    "collapsed": false
   },
   "outputs": [
    {
     "name": "stdout",
     "output_type": "stream",
     "text": [
      "1000 loops, best of 3: 998 µs per loop\n"
     ]
    }
   ],
   "source": [
    "%%timeit\n",
    "\n",
    "data = np.zeros(out.shape[1] , dtype=[('mjd', np.float64), ('flux', np.float64), ('fluxerr', np.float64), ('filter', ('U', 10))])\n",
    "data['mjd'] = mjd\n",
    "data['flux'] = out[0]\n",
    "data['fluxerr'] = out[1]\n",
    "data['filter'] = flt\n",
    "\n",
    "conn.executemany(\"\"\"INSERT INTO fakes VALUES (?, ?, ?, ?)\"\"\", map(tuple, data.tolist()))\n",
    "db.commit()"
   ]
  },
  {
   "cell_type": "code",
   "execution_count": 95,
   "metadata": {
    "collapsed": false
   },
   "outputs": [],
   "source": [
    "conn.execute(\n",
    "\"\"\"\n",
    "DROP TABLE fakes\n",
    "\"\"\")\n",
    "\n",
    "db.commit()"
   ]
  },
  {
   "cell_type": "code",
   "execution_count": 104,
   "metadata": {
    "collapsed": false
   },
   "outputs": [],
   "source": [
    "db.close()"
   ]
  },
  {
   "cell_type": "code",
   "execution_count": null,
   "metadata": {
    "collapsed": true
   },
   "outputs": [],
   "source": []
  }
 ],
 "metadata": {
  "anaconda-cloud": {},
  "kernelspec": {
   "display_name": "Python [conda root]",
   "language": "python",
   "name": "conda-root-py"
  },
  "language_info": {
   "codemirror_mode": {
    "name": "ipython",
    "version": 3
   },
   "file_extension": ".py",
   "mimetype": "text/x-python",
   "name": "python",
   "nbconvert_exporter": "python",
   "pygments_lexer": "ipython3",
   "version": "3.5.2"
  }
 },
 "nbformat": 4,
 "nbformat_minor": 1
}
