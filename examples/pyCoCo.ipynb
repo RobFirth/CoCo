{
 "cells": [
  {
   "cell_type": "code",
   "execution_count": 2,
   "metadata": {
    "collapsed": true
   },
   "outputs": [],
   "source": [
    "import numpy as np\n",
    "from pyCoCo import pyCoCo"
   ]
  },
  {
   "cell_type": "code",
   "execution_count": 8,
   "metadata": {
    "collapsed": true
   },
   "outputs": [],
   "source": [
    "fltPath = b\"/Users/szymon/Projects/CoCo/data/filters\"\n",
    "rootPath = b\"/Users/szymon/Projects/CoCo\""
   ]
  },
  {
   "cell_type": "code",
   "execution_count": 9,
   "metadata": {
    "collapsed": false
   },
   "outputs": [
    {
     "name": "stdout",
     "output_type": "stream",
     "text": [
      "1 loop, best of 3: 2.15 s per loop\n"
     ]
    }
   ],
   "source": [
    "%%timeit \n",
    "\n",
    "coco = pyCoCo(fltPath, rootPath)"
   ]
  },
  {
   "cell_type": "code",
   "execution_count": 11,
   "metadata": {
    "collapsed": false
   },
   "outputs": [],
   "source": [
    "coco = pyCoCo(fltPath, rootPath)"
   ]
  },
  {
   "cell_type": "code",
   "execution_count": 17,
   "metadata": {
    "collapsed": true
   },
   "outputs": [],
   "source": [
    "mjd = np.arange(55000, 55100, 5, dtype=float)\n",
    "flt = [b\"SDSS_r\", b\"SDSS_r\", b\"SDSS_r\", b\"SDSS_r\", b\"SDSS_r\",\n",
    "       b\"SDSS_r\", b\"SDSS_r\", b\"SDSS_r\", b\"SDSS_r\", b\"SDSS_r\",\n",
    "       b\"SDSS_i\", b\"SDSS_i\", b\"SDSS_i\", b\"SDSS_i\", b\"SDSS_i\",\n",
    "       b\"SDSS_i\", b\"SDSS_i\", b\"SDSS_i\", b\"SDSS_i\", b\"SDSS_i\"]\n",
    "flt = np.array(flt)"
   ]
  },
  {
   "cell_type": "code",
   "execution_count": 18,
   "metadata": {
    "collapsed": false
   },
   "outputs": [
    {
     "name": "stdout",
     "output_type": "stream",
     "text": [
      "10 loops, best of 3: 61.8 ms per loop\n"
     ]
    }
   ],
   "source": [
    "%%timeit\n",
    "\n",
    "coco.simulate(b\"SN2011dh\", 0.1, -1.0, 0.2, 0.1, 3.1, 55000.0, mjd, flt)"
   ]
  },
  {
   "cell_type": "code",
   "execution_count": 19,
   "metadata": {
    "collapsed": false
   },
   "outputs": [
    {
     "data": {
      "text/plain": [
       "array([[  5.55871198e-17,   5.47435009e-17,   5.26037632e-17,\n",
       "          4.95504296e-17,   4.59114367e-17,   4.19543140e-17,\n",
       "          3.78880527e-17,   3.38690332e-17,   3.00087081e-17,\n",
       "          2.63816441e-17,   1.55238502e-17,   1.34701077e-17,\n",
       "          1.16235163e-17,   9.98005839e-18,   8.53020321e-18,\n",
       "          7.26091294e-18,   6.15717049e-18,   5.20311134e-18,\n",
       "          4.38283593e-18,   3.68096990e-18],\n",
       "       [  0.00000000e+00,   0.00000000e+00,   0.00000000e+00,\n",
       "          0.00000000e+00,   0.00000000e+00,   0.00000000e+00,\n",
       "          0.00000000e+00,   0.00000000e+00,   0.00000000e+00,\n",
       "          0.00000000e+00,   0.00000000e+00,   0.00000000e+00,\n",
       "          0.00000000e+00,   0.00000000e+00,   0.00000000e+00,\n",
       "          0.00000000e+00,   0.00000000e+00,   0.00000000e+00,\n",
       "          0.00000000e+00,   0.00000000e+00]])"
      ]
     },
     "execution_count": 19,
     "metadata": {},
     "output_type": "execute_result"
    }
   ],
   "source": [
    "coco.simulate(b\"SN2011dh\", 0.1, -1.0, 0.2, 0.1, 3.1, 55000.0, mjd, flt)"
   ]
  },
  {
   "cell_type": "code",
   "execution_count": null,
   "metadata": {
    "collapsed": true
   },
   "outputs": [],
   "source": []
  }
 ],
 "metadata": {
  "anaconda-cloud": {},
  "kernelspec": {
   "display_name": "Python [conda root]",
   "language": "python",
   "name": "conda-root-py"
  },
  "language_info": {
   "codemirror_mode": {
    "name": "ipython",
    "version": 3
   },
   "file_extension": ".py",
   "mimetype": "text/x-python",
   "name": "python",
   "nbconvert_exporter": "python",
   "pygments_lexer": "ipython3",
   "version": "3.5.2"
  }
 },
 "nbformat": 4,
 "nbformat_minor": 1
}
